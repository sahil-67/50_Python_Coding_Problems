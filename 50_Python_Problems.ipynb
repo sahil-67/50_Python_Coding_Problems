{
 "cells": [
  {
   "cell_type": "markdown",
   "id": "2f4ac08f",
   "metadata": {},
   "source": [
    "### To reverse an integer"
   ]
  },
  {
   "cell_type": "code",
   "execution_count": 14,
   "id": "1987e1ce",
   "metadata": {},
   "outputs": [
    {
     "name": "stdout",
     "output_type": "stream",
     "text": [
      "3642645678\n",
      "8765462463\n"
     ]
    }
   ],
   "source": [
    "#Converting input number to a list of numbers\n",
    "a = list(input())\n",
    "\n",
    "#Reversing the order of list\n",
    "a = a[::-1]\n",
    "\n",
    "#Converting list into string again\n",
    "b =''\n",
    "for i in range(len(a)):\n",
    "    b += a[i]\n",
    "    \n",
    "print(b)"
   ]
  },
  {
   "cell_type": "markdown",
   "id": "bb338990",
   "metadata": {},
   "source": [
    "### To check whether a number is Armstrong or not"
   ]
  },
  {
   "cell_type": "code",
   "execution_count": 26,
   "id": "345dd84a",
   "metadata": {},
   "outputs": [
    {
     "name": "stdout",
     "output_type": "stream",
     "text": [
      "153\n",
      "153 is Armstrong number\n"
     ]
    }
   ],
   "source": [
    "# Armstrong number is a number that is the sum of its own digits each raised to the power of the number of digits\n",
    "\n",
    "\n",
    "x = int(input())\n",
    "# Input taken and converting into list, then mapping each list element as integer\n",
    "a = list(map(int , list(str(x))))\n",
    "\n",
    "n = len(a)\n",
    "s = 0                    # Decalring empty integer variable\n",
    "\n",
    "# Storing all the individual digits each raised to the power of the number of digits into 's'\n",
    "for i in range (n):\n",
    "    s += a[i]**n\n",
    "    \n",
    "# Checking the property of Armstrong number    \n",
    "if s == x:\n",
    "    print(x , 'is Armstrong number')\n",
    "else:\n",
    "    print(x , 'is not Armstrong number')"
   ]
  },
  {
   "cell_type": "markdown",
   "id": "22c1b1ec",
   "metadata": {},
   "source": [
    "### Checking Prime Number"
   ]
  },
  {
   "cell_type": "code",
   "execution_count": 48,
   "id": "8e47e23c",
   "metadata": {},
   "outputs": [
    {
     "name": "stdout",
     "output_type": "stream",
     "text": [
      "34\n",
      "34 is not a prime number\n"
     ]
    }
   ],
   "source": [
    "n = int(input())\n",
    "\n",
    "# Negative numbers, zero and one can not be primes\n",
    "if n <= 0 or n == 1:\n",
    "    print('Not Applicable')\n",
    "else:\n",
    "#Creating an empty list\n",
    "    l = []\n",
    "    for i in range(2,n):\n",
    "        if n%i == 0:\n",
    "            l.append(i)\n",
    "            break\n",
    "            \n",
    "# If no factor is present b/w 1 and n, then the number is prime\n",
    "    if len(l) > 0:\n",
    "        print(n , 'is not a prime number')\n",
    "    else:\n",
    "        print(n , 'is a prime number')"
   ]
  },
  {
   "cell_type": "markdown",
   "id": "c233db73",
   "metadata": {},
   "source": [
    "### Fibonacci series Using Iterative Method"
   ]
  },
  {
   "cell_type": "code",
   "execution_count": 57,
   "id": "68accc4f",
   "metadata": {},
   "outputs": [
    {
     "name": "stdout",
     "output_type": "stream",
     "text": [
      "3\n",
      "[0, 1, 1]\n"
     ]
    }
   ],
   "source": [
    "n = int(input())\n",
    "\n",
    "# First term of a Fibonacci series is zero\n",
    "l = [0]\n",
    "for i in range(1 , n):\n",
    "    if i == 1:\n",
    "        l.append(1)\n",
    "    if i>=2:\n",
    "        l.append(l[-1] + l[-2])\n",
    "print(l)"
   ]
  },
  {
   "cell_type": "markdown",
   "id": "f5de1320",
   "metadata": {},
   "source": [
    "### Check if a number is pallindrome or not"
   ]
  },
  {
   "cell_type": "code",
   "execution_count": 63,
   "id": "f9a3c01a",
   "metadata": {},
   "outputs": [
    {
     "name": "stdout",
     "output_type": "stream",
     "text": [
      "121\n",
      "121 is a pallindrome\n"
     ]
    }
   ],
   "source": [
    "# A number reading same from backwards and frontwards is pallindrome\n",
    "\n",
    "n = input()\n",
    "\n",
    "l = list(map(int , list(n)))\n",
    "\n",
    "if l == l[::-1]:\n",
    "    print(n , 'is a pallindrome')\n",
    "else:\n",
    "    print(n, 'is not a pallindrome')"
   ]
  },
  {
   "cell_type": "markdown",
   "id": "7ab55c5b",
   "metadata": {},
   "source": [
    "### Find Greatest Among Three Integers"
   ]
  },
  {
   "cell_type": "code",
   "execution_count": 73,
   "id": "6000eab5",
   "metadata": {},
   "outputs": [
    {
     "name": "stdout",
     "output_type": "stream",
     "text": [
      "6\n",
      "4\n",
      "5\n",
      "The maximum number is  6\n"
     ]
    }
   ],
   "source": [
    "n1 = int(input())\n",
    "n2 = int(input())\n",
    "n3 = int(input())\n",
    "\n",
    "# Putting all numbers in list and then using max function of list\n",
    "l = list([n1,n2,n3])\n",
    "\n",
    "print('The maximum number is ' , max(l))"
   ]
  },
  {
   "cell_type": "markdown",
   "id": "b762119f",
   "metadata": {},
   "source": [
    "### Check if a number is binary"
   ]
  },
  {
   "cell_type": "code",
   "execution_count": 82,
   "id": "9dba5291",
   "metadata": {},
   "outputs": [
    {
     "name": "stdout",
     "output_type": "stream",
     "text": [
      "10101010\n",
      "Given number is binary\n"
     ]
    }
   ],
   "source": [
    "# A binary number contains only 0 and 1\n",
    "a = input()\n",
    "\n",
    "s = 0\n",
    "for i in range(len(a)):\n",
    "    if a[i] == '0' or a[i] == '1':\n",
    "        s+=1\n",
    "    \n",
    "if s == len(a):\n",
    "    print('Given number is binary')\n",
    "else:\n",
    "    print('Given number is not binary')\n"
   ]
  },
  {
   "cell_type": "markdown",
   "id": "540ee045",
   "metadata": {},
   "source": [
    "### Swapping of two numbers without using third variable"
   ]
  },
  {
   "cell_type": "code",
   "execution_count": 83,
   "id": "c20d0599",
   "metadata": {},
   "outputs": [
    {
     "name": "stdout",
     "output_type": "stream",
     "text": [
      "1\n",
      "2\n",
      "Value of x:  2 Value of y 1\n"
     ]
    }
   ],
   "source": [
    "x = int(input())\n",
    "y = int(input())\n",
    "\n",
    "x , y = y , x\n",
    "print('Value of x: ' , x , 'Value of y' , y )"
   ]
  },
  {
   "cell_type": "markdown",
   "id": "f660bfb0",
   "metadata": {},
   "source": [
    "### Swapping of two numbers using third variable"
   ]
  },
  {
   "cell_type": "code",
   "execution_count": 86,
   "id": "7485f70d",
   "metadata": {},
   "outputs": [
    {
     "name": "stdout",
     "output_type": "stream",
     "text": [
      "1\n",
      "2\n",
      "Value of x:  2 Value of y 1\n"
     ]
    }
   ],
   "source": [
    "x = int(input())\n",
    "y = int(input())\n",
    "\n",
    "# Creating a temporary variable\n",
    "temp = x\n",
    "x = y \n",
    "y = temp\n",
    "\n",
    "print('Value of x: ' , x , 'Value of y' , y )"
   ]
  },
  {
   "cell_type": "markdown",
   "id": "939bb6ae",
   "metadata": {},
   "source": [
    "### Interchange First & Last Elements of a List"
   ]
  },
  {
   "cell_type": "code",
   "execution_count": 91,
   "id": "7300a231",
   "metadata": {},
   "outputs": [
    {
     "name": "stdout",
     "output_type": "stream",
     "text": [
      "1 2 3 4\n",
      "['4', ' ', '2', ' ', '3', ' ', '1']\n"
     ]
    }
   ],
   "source": [
    "l = list(input().strip())\n",
    "l[0] , l[-1] = l[-1] , l[0]\n",
    "\n",
    "print(l)"
   ]
  },
  {
   "cell_type": "markdown",
   "id": "51720fd8",
   "metadata": {},
   "source": [
    "### Swap any two elements in a list"
   ]
  },
  {
   "cell_type": "code",
   "execution_count": 92,
   "id": "ca7d2ebb",
   "metadata": {},
   "outputs": [
    {
     "name": "stdout",
     "output_type": "stream",
     "text": [
      "1234\n",
      "1\n",
      "-2\n",
      "['1', '3', '2', '4']\n"
     ]
    }
   ],
   "source": [
    "l = list(input())\n",
    "\n",
    "# The index of elements which need to be interchanged\n",
    "n1 = int(input())\n",
    "n2 = int(input())\n",
    "\n",
    "l[n1] , l[n2] = l[n2] , l[n1]\n",
    "\n",
    "print(l)"
   ]
  },
  {
   "cell_type": "markdown",
   "id": "95b7b916",
   "metadata": {},
   "source": [
    "### Find if any number is present in list and then multiply it with some number"
   ]
  },
  {
   "cell_type": "code",
   "execution_count": 113,
   "id": "ead3c3b6",
   "metadata": {},
   "outputs": [
    {
     "name": "stdout",
     "output_type": "stream",
     "text": [
      "34 dinesh rakesh 5 4\n",
      "2\n",
      "[68, 'dinesh', 'rakesh', 10, 8]\n"
     ]
    }
   ],
   "source": [
    "l = input().split()\n",
    "\n",
    "n = int(input())               # Number with which digit elements is to be multiplied\n",
    "\n",
    "for i in range(len(l)):\n",
    "    if l[i].isdigit() == True:     #isdigit checks if all the characters in an element are digits\n",
    "        l[i] = int(l[i])*n\n",
    "print(l)"
   ]
  },
  {
   "cell_type": "markdown",
   "id": "9d728763",
   "metadata": {},
   "source": [
    "### Count occurences of an element in a list"
   ]
  },
  {
   "cell_type": "code",
   "execution_count": 116,
   "id": "ede9c7cc",
   "metadata": {},
   "outputs": [
    {
     "name": "stdout",
     "output_type": "stream",
     "text": [
      "1 2 3 4 3 2 4 2\n",
      "2\n",
      "3\n"
     ]
    }
   ],
   "source": [
    "l = input().split()\n",
    "\n",
    "s =0\n",
    "#The element of which count occurences is to be calculated\n",
    "x = input()\n",
    "\n",
    "for i in range(len(l)):\n",
    "    if l[i] == x:\n",
    "        s += 1\n",
    "        \n",
    "print(s)"
   ]
  },
  {
   "cell_type": "markdown",
   "id": "1c5d0464",
   "metadata": {},
   "source": [
    "### Find second largest number in a list"
   ]
  },
  {
   "cell_type": "code",
   "execution_count": 117,
   "id": "93f929cb",
   "metadata": {},
   "outputs": [
    {
     "name": "stdout",
     "output_type": "stream",
     "text": [
      "1 4 2 1 4 5 7  54 3 3 2 1 52\n",
      "52\n"
     ]
    }
   ],
   "source": [
    "l = list(map(int , input().split()))\n",
    "l.sort()\n",
    "print(l[-2])"
   ]
  },
  {
   "cell_type": "markdown",
   "id": "6caa2e51",
   "metadata": {},
   "source": [
    "### Print all even numbers in a range from a list"
   ]
  },
  {
   "cell_type": "code",
   "execution_count": 121,
   "id": "b28fc8d9",
   "metadata": {},
   "outputs": [
    {
     "name": "stdout",
     "output_type": "stream",
     "text": [
      "1 2 3 4 5 6 7 8 9 10\n",
      "3\n",
      "7\n",
      "['4', '6']\n"
     ]
    }
   ],
   "source": [
    "l = input().split()\n",
    "\n",
    "#Range values\n",
    "r1 = int(input())\n",
    "r2 = int(input())\n",
    "\n",
    "ev = []\n",
    "\n",
    "for i in range(len(l)):\n",
    "    if int(l[i]) % 2 ==0 and int(l[i]) <= r2 and int(l[i])>=r1:\n",
    "        ev.append(l[i])\n",
    "        \n",
    "print(ev)"
   ]
  },
  {
   "cell_type": "markdown",
   "id": "afa39e4d",
   "metadata": {},
   "source": [
    "### Remove empty list from list"
   ]
  },
  {
   "cell_type": "code",
   "execution_count": 140,
   "id": "022037ae",
   "metadata": {},
   "outputs": [
    {
     "name": "stdout",
     "output_type": "stream",
     "text": [
      "Enter number of lists to be inserted: 7\n",
      "List elements: 1 2 3\n",
      "List elements: 4 5 6\n",
      "List elements: \n",
      "List elements: 2 4 6\n",
      "List elements: \n",
      "List elements: 9 7 6\n",
      "List elements: \n",
      "[['1', '2', '3'], ['4', '5', '6'], ['2', '4', '6'], ['9', '7', '6']]\n"
     ]
    }
   ],
   "source": [
    "# Number of lists to be inserted\n",
    "n = int(input('Enter number of lists to be inserted: '))\n",
    "l =[]\n",
    "for i in range(n):\n",
    "    l.append(input('List elements: ').split())\n",
    "\n",
    "#for i in range(n):\n",
    "#    if len(l[i]) == 0:        \n",
    "#        l.remove(l[i])          We can not use remove method here because as one element is removed from the list, the length of the list decreases by 1 and hence, for next looping, the index will be out of range\n",
    "l1 = []\n",
    "for i in range(len(l)):\n",
    "    if len(l[i]) != 0:\n",
    "        l1.append(l[i])\n",
    "print(l1)\n"
   ]
  },
  {
   "cell_type": "markdown",
   "id": "40c88fb4",
   "metadata": {},
   "source": [
    "### Removing duplicates from a list"
   ]
  },
  {
   "cell_type": "code",
   "execution_count": 142,
   "id": "af74fc9c",
   "metadata": {},
   "outputs": [
    {
     "name": "stdout",
     "output_type": "stream",
     "text": [
      "1 2 3 4 1 2 3 4 2 3 1 4\n",
      "['1', '2', '3', '4']\n"
     ]
    }
   ],
   "source": [
    "l = input().split()\n",
    "l1 =[]\n",
    "for i in range(len(l)):\n",
    "    if l[i] not in l1:\n",
    "        l1.append(l[i])\n",
    "print(l1)"
   ]
  },
  {
   "cell_type": "markdown",
   "id": "0d29eaf8",
   "metadata": {},
   "source": [
    "### Test if list contains elements in range"
   ]
  },
  {
   "cell_type": "code",
   "execution_count": 146,
   "id": "a95e8d8d",
   "metadata": {},
   "outputs": [
    {
     "name": "stdout",
     "output_type": "stream",
     "text": [
      "1 2 3 4 5 6 7 8 9 \n",
      "3\n",
      "5\n",
      "[3, 4, 5]\n"
     ]
    }
   ],
   "source": [
    "l = list(map(int,input().split()))\n",
    "r1 = int(input())\n",
    "r2 = int(input())\n",
    "l1 = []\n",
    "for i in range(len(l)):\n",
    "    if l[i] >= r1 and l[i] <= r2:\n",
    "        l1.append(l[i])\n",
    "print(l1)"
   ]
  },
  {
   "cell_type": "markdown",
   "id": "f0a232ad",
   "metadata": {},
   "source": [
    "### Remove consecutive 'k' records from a list"
   ]
  },
  {
   "cell_type": "code",
   "execution_count": 175,
   "id": "c9c90d02",
   "metadata": {},
   "outputs": [
    {
     "name": "stdout",
     "output_type": "stream",
     "text": [
      "1 2 3 4 5 6 7 8 9\n",
      "Enter F for removing first \"k\" records/ Enter L for removing last \"k\" records/Enter M for removing records in betweenM\n",
      "Enter the start index: 3\n",
      "Enter the end index: 6\n",
      "['1', '2', '3', '8', '9']\n"
     ]
    }
   ],
   "source": [
    "l = input().split()\n",
    "x = input('Enter F for removing first \"k\" records/ Enter L for removing last \"k\" records/Enter M for removing records in between')\n",
    " \n",
    "if x == 'F':\n",
    "    f = int(input('Enter number of records to be removed: '))\n",
    "    del l[:f]\n",
    "elif x == 'L':\n",
    "    la = int(input('Enter number of records to be removed: '))\n",
    "    del l[-la : ]\n",
    "elif x == 'M':\n",
    "    m1 = int(input('Enter the start index: '))\n",
    "    m2 = int(input('Enter the end index: '))\n",
    "    del l[m1:m2 +1]\n",
    "print(l)"
   ]
  },
  {
   "cell_type": "markdown",
   "id": "f2e4e124",
   "metadata": {},
   "source": [
    "### Calculate Factorial Using Iterative Method"
   ]
  },
  {
   "cell_type": "code",
   "execution_count": 5,
   "id": "0a96fa90",
   "metadata": {},
   "outputs": [
    {
     "name": "stdout",
     "output_type": "stream",
     "text": [
      "45\n",
      "119622220865480194561963161495657715064383733760000000000\n"
     ]
    }
   ],
   "source": [
    "n = int(input())\n",
    "\n",
    "factorial = 1\n",
    "\n",
    "for i in range(1,n+1):\n",
    "    factorial = factorial*i\n",
    "    \n",
    "print(factorial)"
   ]
  },
  {
   "cell_type": "markdown",
   "id": "34c61776",
   "metadata": {},
   "source": [
    "### Calculate Factorial Using Recursion"
   ]
  },
  {
   "cell_type": "code",
   "execution_count": 6,
   "id": "87118d2e",
   "metadata": {},
   "outputs": [],
   "source": [
    "def factorial(n):\n",
    "    if n==1:\n",
    "        return 1\n",
    "    else:\n",
    "        return (n*factorial(n-1))"
   ]
  },
  {
   "cell_type": "markdown",
   "id": "2f1a8f39",
   "metadata": {},
   "source": [
    "### Print prime numbers before a certain number"
   ]
  },
  {
   "cell_type": "code",
   "execution_count": 245,
   "id": "1f4ff069",
   "metadata": {},
   "outputs": [
    {
     "name": "stdout",
     "output_type": "stream",
     "text": [
      "Enter range of prime numbers:12\n",
      "Prime numbers: 1 2 3 5 7 11 "
     ]
    }
   ],
   "source": [
    "numr=int(input(\"Enter range of prime numbers:\"))\n",
    "\n",
    "print(\"Prime numbers:\",end=' ')\n",
    "\n",
    "for n in range(1,numr):\n",
    "\n",
    "    for i in range(2,n):\n",
    "\n",
    "        if(n%i==0):\n",
    "\n",
    "            break\n",
    "\n",
    "    else:\n",
    "\n",
    "        print(n,end=' ')   "
   ]
  },
  {
   "cell_type": "markdown",
   "id": "26b72bc4",
   "metadata": {},
   "source": [
    "### Finding power without POW method using 'FOR' loop"
   ]
  },
  {
   "cell_type": "code",
   "execution_count": 13,
   "id": "4a0279bc",
   "metadata": {},
   "outputs": [
    {
     "name": "stdout",
     "output_type": "stream",
     "text": [
      "5\n",
      "4\n",
      "625\n"
     ]
    }
   ],
   "source": [
    "n = int(input())\n",
    "\n",
    "p = int(input())\n",
    "\n",
    "a = 1\n",
    "\n",
    "for i in range(p):\n",
    "    a = a*n\n",
    "print(a)"
   ]
  },
  {
   "cell_type": "markdown",
   "id": "ecbe59e7",
   "metadata": {},
   "source": [
    "### Finding power without POW method using 'WHILE' loop"
   ]
  },
  {
   "cell_type": "code",
   "execution_count": 14,
   "id": "611e5a63",
   "metadata": {},
   "outputs": [
    {
     "name": "stdout",
     "output_type": "stream",
     "text": [
      "2\n",
      "3\n",
      "8\n"
     ]
    }
   ],
   "source": [
    "n = int(input())\n",
    "\n",
    "p = int(input())\n",
    "\n",
    "a = 1\n",
    "while p != 0:\n",
    "    a = a*n\n",
    "    p -= 1\n",
    "print(a)"
   ]
  },
  {
   "cell_type": "markdown",
   "id": "d786f346",
   "metadata": {},
   "source": [
    "### Square of a given number"
   ]
  },
  {
   "cell_type": "code",
   "execution_count": 15,
   "id": "db947627",
   "metadata": {},
   "outputs": [
    {
     "name": "stdout",
     "output_type": "stream",
     "text": [
      "7\n",
      "49\n"
     ]
    }
   ],
   "source": [
    "n = int(input())\n",
    "\n",
    "p = 2\n",
    "\n",
    "a = 1\n",
    "\n",
    "for i in range(p):\n",
    "    a = a*n\n",
    "    \n",
    "print(a)"
   ]
  },
  {
   "cell_type": "markdown",
   "id": "47bf923f",
   "metadata": {},
   "source": [
    "### Cube of a given number"
   ]
  },
  {
   "cell_type": "code",
   "execution_count": 16,
   "id": "d534e7aa",
   "metadata": {},
   "outputs": [
    {
     "name": "stdout",
     "output_type": "stream",
     "text": [
      "6\n",
      "216\n"
     ]
    }
   ],
   "source": [
    "n = int(input())\n",
    "\n",
    "p = 3\n",
    "\n",
    "a = 1\n",
    "while p != 0:\n",
    "    a = a*n\n",
    "    p -= 1\n",
    "    \n",
    "print(a)"
   ]
  },
  {
   "cell_type": "markdown",
   "id": "a494e62e",
   "metadata": {},
   "source": [
    "### Square Root of a number"
   ]
  },
  {
   "cell_type": "code",
   "execution_count": 21,
   "id": "54015ab5",
   "metadata": {},
   "outputs": [
    {
     "name": "stdout",
     "output_type": "stream",
     "text": [
      "64\n",
      "8.0\n"
     ]
    }
   ],
   "source": [
    "n = int(input())\n",
    "\n",
    "print(n**0.5)"
   ]
  },
  {
   "cell_type": "markdown",
   "id": "142aa926",
   "metadata": {},
   "source": [
    "### HCF of two numbers"
   ]
  },
  {
   "cell_type": "code",
   "execution_count": 33,
   "id": "82bf78bf",
   "metadata": {},
   "outputs": [
    {
     "name": "stdout",
     "output_type": "stream",
     "text": [
      "Enter First Number: 51\n",
      "Enter Second Number: 85\n",
      "17\n"
     ]
    }
   ],
   "source": [
    "n1 = int(input('Enter First Number: '))\n",
    "n2 = int(input('Enter Second Number: '))\n",
    "\n",
    "l1 = []\n",
    "l2 = []\n",
    "\n",
    "# Storing all factors in l1 and l2 list\n",
    "\n",
    "for i in range(1,n1+1):\n",
    "    if n1 %i ==0:\n",
    "        l1.append(i)\n",
    "        \n",
    "for i in range(1,n2+1):\n",
    "    if n2 %i ==0:\n",
    "        l2.append(i)\n",
    "\n",
    "# Storing common elements of l1 and l2 in l3\n",
    "l3=[]\n",
    "for i in range(len(l1)):\n",
    "    if l1[i] in l2:\n",
    "        l3.append(l1[i])\n",
    "        \n",
    "print(max(l3))"
   ]
  },
  {
   "cell_type": "markdown",
   "id": "5f82eeec",
   "metadata": {},
   "source": [
    "### LCM of two numbers"
   ]
  },
  {
   "cell_type": "code",
   "execution_count": 239,
   "id": "bfceb697",
   "metadata": {},
   "outputs": [],
   "source": [
    "def lcm(n1,n2):\n",
    "    if n1 >n2:\n",
    "        greater = n1\n",
    "    else:\n",
    "        greater = n2\n",
    "        \n",
    "    while(True):\n",
    "        if((greater%n1 ==0) and (greater%n2 == 0)):\n",
    "            lcmm = greater\n",
    "            break\n",
    "        greater+=1\n",
    "    return lcmm"
   ]
  },
  {
   "cell_type": "code",
   "execution_count": 241,
   "id": "1b94a2dc",
   "metadata": {},
   "outputs": [
    {
     "data": {
      "text/plain": [
       "52196186"
      ]
     },
     "execution_count": 241,
     "metadata": {},
     "output_type": "execute_result"
    }
   ],
   "source": [
    "lcm(623,83782)"
   ]
  },
  {
   "cell_type": "markdown",
   "id": "a68e9ee7",
   "metadata": {},
   "source": [
    "### Given year is leap or not"
   ]
  },
  {
   "cell_type": "code",
   "execution_count": 39,
   "id": "a2bcd319",
   "metadata": {},
   "outputs": [
    {
     "name": "stdout",
     "output_type": "stream",
     "text": [
      "Enter year :4533\n",
      "4533 is not a leap year\n"
     ]
    }
   ],
   "source": [
    "#To be a leap year, the year number must be divisible by four – except for end-of-century years, which must be divisible by 400\n",
    "\n",
    "n = int(input('Enter year :'))\n",
    "\n",
    "if n % 400 == 0:\n",
    "    print(n, 'is a leap year')\n",
    "elif n%100 == 0:\n",
    "    print(n, 'is not a leap year')\n",
    "elif n%4 == 0:\n",
    "    print(n, 'is a leap year')\n",
    "else:\n",
    "    print(n, 'is not a leap year')"
   ]
  },
  {
   "cell_type": "markdown",
   "id": "02511752",
   "metadata": {},
   "source": [
    "### Convert Celsius to Farenheit"
   ]
  },
  {
   "cell_type": "code",
   "execution_count": 40,
   "id": "687b7087",
   "metadata": {},
   "outputs": [
    {
     "name": "stdout",
     "output_type": "stream",
     "text": [
      "Enter temperature in celcius: 37\n",
      "98.6\n"
     ]
    }
   ],
   "source": [
    "cel = int(input('Enter temperature in celcius: '))\n",
    "\n",
    "far = ((cel*9)/5)+32\n",
    "\n",
    "print(far)"
   ]
  },
  {
   "cell_type": "markdown",
   "id": "b5c3681e",
   "metadata": {},
   "source": [
    "### Calculate Simple Interest"
   ]
  },
  {
   "cell_type": "code",
   "execution_count": 42,
   "id": "fd8a8ba9",
   "metadata": {},
   "outputs": [
    {
     "name": "stdout",
     "output_type": "stream",
     "text": [
      "Enter Principal Amount: 100\n",
      "Enter rate of interest: 2\n",
      "Enter time: 3\n",
      "Simple Interest is 6.0 %\n"
     ]
    }
   ],
   "source": [
    "p = int(input('Enter Principal Amount: '))\n",
    "r = int(input('Enter rate of interest: '))\n",
    "t = int(input('Enter time: '))\n",
    "\n",
    "SI = (p*r*t)/100\n",
    "\n",
    "print('Simple Interest is' , SI ,'%')"
   ]
  },
  {
   "cell_type": "markdown",
   "id": "8cfc52d9",
   "metadata": {},
   "source": [
    "### Convert Decimal to Binary"
   ]
  },
  {
   "cell_type": "code",
   "execution_count": 53,
   "id": "f950c25b",
   "metadata": {},
   "outputs": [
    {
     "name": "stdout",
     "output_type": "stream",
     "text": [
      "011"
     ]
    }
   ],
   "source": [
    "def D2B(n):\n",
    "    if n>=1:\n",
    "        D2B(n//2)\n",
    "    print(n%2 , end ='')\n",
    "    \n",
    "D2B(3)"
   ]
  },
  {
   "cell_type": "markdown",
   "id": "226d448e",
   "metadata": {},
   "source": [
    "### Remove given character from string"
   ]
  },
  {
   "cell_type": "code",
   "execution_count": 60,
   "id": "99838c5c",
   "metadata": {},
   "outputs": [
    {
     "name": "stdout",
     "output_type": "stream",
     "text": [
      "what is the time?\n",
      "Enter character to be replaced: the \n"
     ]
    },
    {
     "data": {
      "text/plain": [
       "'what is time?'"
      ]
     },
     "execution_count": 60,
     "metadata": {},
     "output_type": "execute_result"
    }
   ],
   "source": [
    "s = input()\n",
    "\n",
    "r = input('Enter character to be replaced: ')\n",
    "\n",
    "s.replace(r,'')"
   ]
  },
  {
   "cell_type": "markdown",
   "id": "7e5b1967",
   "metadata": {},
   "source": [
    "### Count occurence of a given character"
   ]
  },
  {
   "cell_type": "code",
   "execution_count": 59,
   "id": "4e45c7c7",
   "metadata": {},
   "outputs": [
    {
     "name": "stdout",
     "output_type": "stream",
     "text": [
      "What is the time?\n",
      "Enter character whose occurence is to be counted: t\n"
     ]
    },
    {
     "data": {
      "text/plain": [
       "3"
      ]
     },
     "execution_count": 59,
     "metadata": {},
     "output_type": "execute_result"
    }
   ],
   "source": [
    "s = input()\n",
    "c = input('Enter character whose occurence is to be counted: ')\n",
    "\n",
    "s.count(c)"
   ]
  },
  {
   "cell_type": "markdown",
   "id": "d8b1827c",
   "metadata": {},
   "source": [
    "### Check if two strings are anagram"
   ]
  },
  {
   "cell_type": "code",
   "execution_count": 65,
   "id": "2fecf8c6",
   "metadata": {},
   "outputs": [
    {
     "name": "stdout",
     "output_type": "stream",
     "text": [
      "ear\n",
      "are\n",
      "Anagrams\n"
     ]
    }
   ],
   "source": [
    "#a word or phrase that is made by arranging the letters of another word or phrase in a different order\n",
    "\n",
    "s1 =input()\n",
    "s2 = input()\n",
    "\n",
    "l1 = list(s1)\n",
    "l2 = list(s2)\n",
    "s = 0\n",
    "\n",
    "#Anagrams have same length\n",
    "if len(s1) != len(s2):\n",
    "    print('Not Anagrams')\n",
    "else:\n",
    "    for i in range(len(l1)):\n",
    "        if l1[i] in l2:\n",
    "            s+=1\n",
    "if len(l1) == s:\n",
    "    print('Anagrams')"
   ]
  },
  {
   "cell_type": "markdown",
   "id": "0fa10b69",
   "metadata": {},
   "source": [
    "### Check if a string is pallindrome or not"
   ]
  },
  {
   "cell_type": "code",
   "execution_count": 71,
   "id": "313f841d",
   "metadata": {},
   "outputs": [
    {
     "name": "stdout",
     "output_type": "stream",
     "text": [
      "saippuakivikauppias\n",
      "Pallindromes\n"
     ]
    }
   ],
   "source": [
    "s = input()\n",
    "\n",
    "\n",
    "if s[::-1]  == s:\n",
    "    print('Pallindromes')\n",
    "\n",
    "else:\n",
    "    print('Not Pallindromes')"
   ]
  },
  {
   "cell_type": "markdown",
   "id": "e4486a7a",
   "metadata": {},
   "source": [
    "### Check if a given character is vowel or consonant"
   ]
  },
  {
   "cell_type": "code",
   "execution_count": 76,
   "id": "bcb3af0a",
   "metadata": {},
   "outputs": [
    {
     "name": "stdout",
     "output_type": "stream",
     "text": [
      "O\n",
      "Vowel\n"
     ]
    }
   ],
   "source": [
    "c = input()\n",
    "\n",
    "if c in ['a','e','i','o','u','A','E','I','O','U']:\n",
    "    print('Vowel')\n",
    "else:\n",
    "    print('Consonant')"
   ]
  },
  {
   "cell_type": "markdown",
   "id": "e213e547",
   "metadata": {},
   "source": [
    "### Character is digit or not"
   ]
  },
  {
   "cell_type": "code",
   "execution_count": 80,
   "id": "095198dd",
   "metadata": {},
   "outputs": [
    {
     "name": "stdout",
     "output_type": "stream",
     "text": [
      "894\n",
      "894 is a digit\n"
     ]
    }
   ],
   "source": [
    "s = input()\n",
    "\n",
    "if s.isdigit() == True:\n",
    "    print(s,'is a digit')"
   ]
  },
  {
   "cell_type": "markdown",
   "id": "8e2e5e20",
   "metadata": {},
   "source": [
    "### Replace String Space with a given character with replace method"
   ]
  },
  {
   "cell_type": "code",
   "execution_count": 81,
   "id": "14a45ae5",
   "metadata": {},
   "outputs": [
    {
     "name": "stdout",
     "output_type": "stream",
     "text": [
      "wha  kdnjf dsmn\n"
     ]
    },
    {
     "data": {
      "text/plain": [
       "'whaxxkdnjfxdsmn'"
      ]
     },
     "execution_count": 81,
     "metadata": {},
     "output_type": "execute_result"
    }
   ],
   "source": [
    "s = input()\n",
    "s.replace(' ' , 'x')"
   ]
  },
  {
   "cell_type": "markdown",
   "id": "183640e5",
   "metadata": {},
   "source": [
    "### Replace String Space with a given character without replace method"
   ]
  },
  {
   "cell_type": "code",
   "execution_count": 84,
   "id": "4caaa4f1",
   "metadata": {},
   "outputs": [
    {
     "name": "stdout",
     "output_type": "stream",
     "text": [
      "wha  kdnjf dsmn\n",
      "whaxxkdnjfxdsmn\n"
     ]
    }
   ],
   "source": [
    "s = input()\n",
    "l = list(s)\n",
    "s1 =''\n",
    "for i in range(len(l)):\n",
    "    if l[i] == ' ':\n",
    "        l[i] = 'x'\n",
    "for i in l:\n",
    "    s1+=i\n",
    "print(s1)"
   ]
  },
  {
   "cell_type": "markdown",
   "id": "de27b1f8",
   "metadata": {},
   "source": [
    "### Count occurence of Vowels & Consonants in a string"
   ]
  },
  {
   "cell_type": "code",
   "execution_count": 96,
   "id": "cba82f96",
   "metadata": {},
   "outputs": [
    {
     "name": "stdout",
     "output_type": "stream",
     "text": [
      "Wridhiman saha\n",
      "Vowels=  5 Consonants=  8\n"
     ]
    }
   ],
   "source": [
    "s = input()\n",
    "\n",
    "#We need to remove any whitespaces present\n",
    "\n",
    "s1 = s.replace(' ' , '')\n",
    "V = ['a','e','i','o','u','A','E','I','O','U']\n",
    "\n",
    "v=c=0\n",
    "for i in range(len(s1)):\n",
    "    if s1[i] in V:\n",
    "        v+=1\n",
    "    else:\n",
    "        c+=1\n",
    "print('Vowels= ' , v, 'Consonants= ' , c)"
   ]
  },
  {
   "cell_type": "markdown",
   "id": "02ee3eaf",
   "metadata": {},
   "source": [
    "### Print highest frequency character"
   ]
  },
  {
   "cell_type": "code",
   "execution_count": 102,
   "id": "72860914",
   "metadata": {},
   "outputs": [
    {
     "name": "stdout",
     "output_type": "stream",
     "text": [
      "jordan is in the house\n",
      "[1, 2, 1, 1, 1, 2, 2, 2, 2, 2, 1, 2, 2, 2, 2, 1, 2, 2]\n",
      "o\n"
     ]
    }
   ],
   "source": [
    "s = input().replace(' ', '')\n",
    "l =[]\n",
    "for i in range(len(s)):\n",
    "    l.append(s.count(s[i]))\n",
    "print(l)\n",
    "m = l.index(max(l))\n",
    "print(s[m])"
   ]
  },
  {
   "cell_type": "markdown",
   "id": "ba32c8a2",
   "metadata": {},
   "source": [
    "### Convert Lowercase character to uppercase in a string"
   ]
  },
  {
   "cell_type": "code",
   "execution_count": 121,
   "id": "5de847f9",
   "metadata": {},
   "outputs": [
    {
     "name": "stdout",
     "output_type": "stream",
     "text": [
      "Sahil\n",
      "SAHIL\n"
     ]
    }
   ],
   "source": [
    "s = input()\n",
    "\n",
    "l = list(s)\n",
    "\n",
    "for i in range(len(l)):\n",
    "    if l[i].islower() == True:\n",
    "        l[i] = l[i].upper()\n",
    "t = ''\n",
    "for i in range(len(l)):\n",
    "    t += l[i]\n",
    "    \n",
    "print(t)"
   ]
  },
  {
   "cell_type": "markdown",
   "id": "231a3598",
   "metadata": {},
   "source": [
    "### Remove repeated character from string"
   ]
  },
  {
   "cell_type": "code",
   "execution_count": 125,
   "id": "760a5a3a",
   "metadata": {},
   "outputs": [
    {
     "name": "stdout",
     "output_type": "stream",
     "text": [
      "Saaaahil\n",
      "Sahil\n"
     ]
    }
   ],
   "source": [
    "s = input()\n",
    "\n",
    "l= list(s)\n",
    "\n",
    "l1 = []\n",
    "\n",
    "for i in range(len(l)):\n",
    "    if l[i] not in l1:\n",
    "        l1.append(l[i])\n",
    "        \n",
    "s = ''\n",
    "for i in range(len(l1)):\n",
    "    s+=l1[i]\n",
    "    \n",
    "print(s)"
   ]
  },
  {
   "cell_type": "markdown",
   "id": "f6dcce33",
   "metadata": {},
   "source": [
    "### Calculate sum of integers in string"
   ]
  },
  {
   "cell_type": "code",
   "execution_count": 127,
   "id": "87371c11",
   "metadata": {},
   "outputs": [
    {
     "name": "stdout",
     "output_type": "stream",
     "text": [
      "2\n",
      "3\n",
      "5\n"
     ]
    }
   ],
   "source": [
    "n1 = input()\n",
    "n2 = input()\n",
    "\n",
    "s = str(int(n1) + int(n2))\n",
    "\n",
    "print(s)"
   ]
  },
  {
   "cell_type": "markdown",
   "id": "177c4983",
   "metadata": {},
   "source": [
    "### Sort characters of string in ascending order."
   ]
  },
  {
   "cell_type": "code",
   "execution_count": 140,
   "id": "e1741124",
   "metadata": {},
   "outputs": [
    {
     "name": "stdout",
     "output_type": "stream",
     "text": [
      "sahil\n",
      "ahils\n"
     ]
    }
   ],
   "source": [
    "s = input()\n",
    "\n",
    "print(''.join(sorted(s)))     # Capitals are sorted first, then smalls\n",
    "\n",
    "# print(''.join(sorted(s, reverse = True)))     for descending order"
   ]
  },
  {
   "cell_type": "code",
   "execution_count": 197,
   "id": "902f72b7",
   "metadata": {},
   "outputs": [],
   "source": [
    "import numpy as np"
   ]
  },
  {
   "cell_type": "markdown",
   "id": "3102eb1c",
   "metadata": {},
   "source": [
    "### Find largest and smallest number in an array"
   ]
  },
  {
   "cell_type": "code",
   "execution_count": 221,
   "id": "3a3602cc",
   "metadata": {
    "scrolled": true
   },
   "outputs": [
    {
     "name": "stdout",
     "output_type": "stream",
     "text": [
      "Maximum:  12\n",
      "Minimum:  1\n"
     ]
    }
   ],
   "source": [
    "d = np.array([[[1,2],[3,4]],[[5,6],[7,8]],[[9,10],[11,12]]])\n",
    "\n",
    "l = []\n",
    "\n",
    "for x in d:\n",
    "    for y in x:\n",
    "        for z in y:\n",
    "            l.append(z)\n",
    "            \n",
    "print('Maximum: ',max(l))\n",
    "print('Minimum: ',min(l))"
   ]
  },
  {
   "cell_type": "markdown",
   "id": "43626312",
   "metadata": {},
   "source": [
    "### Find List of all uncommon words from two strings"
   ]
  },
  {
   "cell_type": "code",
   "execution_count": 234,
   "id": "78d4f48b",
   "metadata": {},
   "outputs": [
    {
     "name": "stdout",
     "output_type": "stream",
     "text": [
      "Hello Mr DJ\n",
      "Mr DJ is not well\n",
      "['Hello', 'is', 'not', 'well']\n"
     ]
    }
   ],
   "source": [
    "s1 = input()\n",
    "s2 = input()\n",
    "\n",
    "# Splitting each word of both lists and then joining both lists\n",
    "l = s1.split() + s2.split()\n",
    "f = []\n",
    "for i in range(len(l)):\n",
    "    if l.count(l[i]) == 1:\n",
    "        f.append(l[i])\n",
    "print(f)"
   ]
  },
  {
   "cell_type": "markdown",
   "id": "614f77a1",
   "metadata": {},
   "source": [
    "### Hide The Credit Card Number & Show Only Last 4 Digits"
   ]
  },
  {
   "cell_type": "code",
   "execution_count": 252,
   "id": "32724914",
   "metadata": {},
   "outputs": [
    {
     "name": "stdout",
     "output_type": "stream",
     "text": [
      "Enter Credit Card Number: 1526738473927463\n",
      "XXXXXXXXXXXX7463\n"
     ]
    }
   ],
   "source": [
    "cc = input('Enter Credit Card Number: ')\n",
    "\n",
    "l = list(cc)\n",
    "\n",
    "for i in range(len(l)-4):\n",
    "    l[i] ='X'\n",
    "\n",
    "t = ''\n",
    "for i in range(len(l)):\n",
    "    t+=l[i]\n",
    "print(t)"
   ]
  }
 ],
 "metadata": {
  "kernelspec": {
   "display_name": "Python 3 (ipykernel)",
   "language": "python",
   "name": "python3"
  },
  "language_info": {
   "codemirror_mode": {
    "name": "ipython",
    "version": 3
   },
   "file_extension": ".py",
   "mimetype": "text/x-python",
   "name": "python",
   "nbconvert_exporter": "python",
   "pygments_lexer": "ipython3",
   "version": "3.9.12"
  }
 },
 "nbformat": 4,
 "nbformat_minor": 5
}
